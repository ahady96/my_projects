{
 "cells": [
  {
   "cell_type": "markdown",
   "id": "4cf3b8dc-13f2-4340-be4d-d3c208737f62",
   "metadata": {},
   "source": [
    "### Data Science Tools and Ecosystem"
   ]
  },
  {
   "cell_type": "markdown",
   "id": "925a616f-83a7-4332-a179-1bc2457ce05a",
   "metadata": {},
   "source": [
    "#### In this notebook, Data Science Tools and Ecosystem are summarized."
   ]
  },
  {
   "cell_type": "markdown",
   "id": "6c21792f-5055-4a75-aa90-657a8bb2e168",
   "metadata": {},
   "source": [
    "#### Some of the popular languages that Data Scientists use are:\n",
    "* Python\n",
    "* R\n",
    "* SQL\n",
    "* Scala\n",
    "* Julia\n",
    "\n",
    "**Objectives:**\n",
    "\n",
    "- Understand and list popular languages for Data Science.\n",
    "- Identify key libraries used in Data Science.\n",
    "- Explore open-source tools for Data Science development.\n",
    "- Perform basic arithmetic operations in code cells.\n",
    "- Convert time units using arithmetic expressions."
   ]
  },
  {
   "cell_type": "markdown",
   "id": "7d9919a3-71d5-437a-bff8-0009684880fc",
   "metadata": {},
   "source": [
    "#### Some of the commonly used libraries used by Data Scientists include:\n",
    "* Pandas\n",
    "* Matplotlib\n",
    "* Seaborn\n",
    "* Scikit-learn\n",
    "* Tensorflow\n",
    "* Pytorch"
   ]
  },
  {
   "cell_type": "markdown",
   "id": "02e9f468-3644-4e7f-b8e2-ffa249968d6b",
   "metadata": {},
   "source": [
    "| Data Science Tools       |\n",
    "|--------------------------|\n",
    "| Jupyter Notebook         |\n",
    "| RStudio                  |\n",
    "| Apache Zeppelin          |"
   ]
  },
  {
   "cell_type": "markdown",
   "id": "6f29d497-a04e-4658-9be2-9146f387af9a",
   "metadata": {},
   "source": [
    "## Arithmetic Expression Examples\n",
    "\n",
    "Arithmetic expressions are used to perform mathematical operations such as addition, subtraction, multiplication, and division. Here are some examples:\n",
    "\n",
    "- **Addition (+):** `3 + 5` results in `8`.\n",
    "- **Subtraction (-):** `10 - 7` results in `3`.\n",
    "- **Multiplication (*):** `4 * 6` results in `24`.\n",
    "- **Division (/):** `20 / 4` results in `5`.\n",
    "\n",
    "We can also use these expressions in more complex calculations involving parentheses for order of operations, such as:\n",
    "\n",
    "`(3 + 5) * 2` results in `16`."
   ]
  },
  {
   "cell_type": "code",
   "execution_count": 15,
   "id": "4773f003-6fd1-46c2-9579-9649d22094c8",
   "metadata": {},
   "outputs": [
    {
     "data": {
      "text/plain": [
       "17"
      ]
     },
     "execution_count": 15,
     "metadata": {},
     "output_type": "execute_result"
    }
   ],
   "source": [
    "# This is a simple arithmetic expression to multiply then add integers\n",
    "(3 * 4) + 5"
   ]
  },
  {
   "cell_type": "code",
   "execution_count": 17,
   "id": "5be1ba6d-7431-43d9-9065-0161421d9d80",
   "metadata": {},
   "outputs": [
    {
     "data": {
      "text/plain": [
       "3.3333333333333335"
      ]
     },
     "execution_count": 17,
     "metadata": {},
     "output_type": "execute_result"
    }
   ],
   "source": [
    "# This will convert 200 minutes to hours by dividing by 60\n",
    "200 / 60"
   ]
  },
  {
   "cell_type": "markdown",
   "id": "1ab67d7d-5de7-4606-b86e-d0c1ea9ff2de",
   "metadata": {},
   "source": [
    "## Author\n",
    "\n",
    "Ahmad Waleed Ahady"
   ]
  }
 ],
 "metadata": {
  "kernelspec": {
   "display_name": "Python 3 (ipykernel)",
   "language": "python",
   "name": "python3"
  },
  "language_info": {
   "codemirror_mode": {
    "name": "ipython",
    "version": 3
   },
   "file_extension": ".py",
   "mimetype": "text/x-python",
   "name": "python",
   "nbconvert_exporter": "python",
   "pygments_lexer": "ipython3",
   "version": "3.12.4"
  }
 },
 "nbformat": 4,
 "nbformat_minor": 5
}
